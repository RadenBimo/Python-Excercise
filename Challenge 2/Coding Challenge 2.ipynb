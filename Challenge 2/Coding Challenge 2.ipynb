{
 "cells": [
  {
   "cell_type": "markdown",
   "metadata": {},
   "source": [
    "# Coding Challenge 2"
   ]
  },
  {
   "cell_type": "markdown",
   "metadata": {
    "id": "ZwHc-3vSJdpj"
   },
   "source": [
    "## Problem 1: Find the amount of substring"
   ]
  },
  {
   "cell_type": "markdown",
   "metadata": {
    "id": "_rD65MuvJdpm"
   },
   "source": [
    "Create a function whose name is ```substring_count``` that does the following: \n",
    "\n",
    "Given a string and a substring. Count how many times the substring appears in the string. The first input is always the string (the longer one), and the second input is always the substring (the shorter one).\n",
    "\n",
    "##### Example 1:\n",
    "\n",
    "Input:\n",
    "\n",
    "string = 'ABCDCDC'\n",
    "\n",
    "substring = 'CD'\n",
    "\n",
    "How many times 'CD' appears in 'ABCDCDC'? \n",
    "2 times! So when we run ```substring_count('ABCDCDC', 'CD')``` the output will be '2'. \n",
    "\n",
    "Output: 2\n",
    "\n",
    "##### Example 2:\n",
    "\n",
    "String:\n",
    "\n",
    "string = 'ABCDCDC'\n",
    "\n",
    "substring = 'CDC'\n",
    "\n",
    "How many times 'CDC' appears in 'ABCDCDC'?\n",
    "2 times! Yes, it can overlap. AB**CDC**DC, and ABCD**CDC**. So when we run ```substring_count('ABCDCDC', 'CDC')``` the output will be '2'. \n",
    "\n",
    "Output: 2\n",
    "\n",
    "##### Example 3:\n",
    "\n",
    "string = 'DEDFDEDEDEG'\n",
    "\n",
    "substring = 'DED'\n",
    "\n",
    "How many times 'DED' appears in 'DEDFDEDEDEG'?\n",
    "3 times! First: **DED**FDEDEDEG. Second: DEDF**DED**EDEG. Third: DEDFDE**DED**EG.\n",
    "\n",
    "Output: 3"
   ]
  },
  {
   "cell_type": "code",
   "execution_count": 1,
   "metadata": {
    "executionInfo": {
     "elapsed": 676,
     "status": "ok",
     "timestamp": 1648549251983,
     "user": {
      "displayName": "Raden Bimo",
      "userId": "01142906655871816443"
     },
     "user_tz": -420
    },
    "id": "t2XJSyHuyuAa"
   },
   "outputs": [],
   "source": [
    "def substring_count(string,substring):\n",
    "  hasil=0\n",
    "  for i in range(len(string)):\n",
    "    kata=string[i:(len(substring)+i)]\n",
    "    if kata==substring:\n",
    "      hasil=hasil+1\n",
    "  return(print(hasil))"
   ]
  },
  {
   "cell_type": "code",
   "execution_count": 2,
   "metadata": {
    "colab": {
     "base_uri": "https://localhost:8080/"
    },
    "executionInfo": {
     "elapsed": 35,
     "status": "ok",
     "timestamp": 1648549251983,
     "user": {
      "displayName": "Raden Bimo",
      "userId": "01142906655871816443"
     },
     "user_tz": -420
    },
    "id": "6HRVM_v60Bv8",
    "outputId": "24b6311a-b043-4466-d374-d3c4ab46f85f"
   },
   "outputs": [
    {
     "name": "stdout",
     "output_type": "stream",
     "text": [
      "2\n",
      "3\n"
     ]
    }
   ],
   "source": [
    "#Test code no 1\n",
    "string1= 'ABCDCDC'\n",
    "substring1= 'CDC'\n",
    "substring_count(string1,substring1)\n",
    "#Test code no2\n",
    "string1= 'DEDFDEDEDEG'\n",
    "substring1= 'DED'\n",
    "substring_count(string1,substring1)\n",
    "#hasil: OK"
   ]
  },
  {
   "cell_type": "markdown",
   "metadata": {
    "id": "kPc42YPuJdpw"
   },
   "source": [
    "Problem 2: How many different letters are there in the string?"
   ]
  },
  {
   "cell_type": "markdown",
   "metadata": {
    "id": "YtkU_gLYJdpx"
   },
   "source": [
    "Create a function called ```diff_letters``` that counts how many different letters are there in the input string.\n",
    "\n",
    "The input is just a single string.\n",
    "\n",
    "##### Example 1:\n",
    "\n",
    "Input: 'AAAAAAAAAB'\n",
    "\n",
    "Since there are only 2 different letters in the input string, the output is 2.\n",
    "\n",
    "When we run ```diff_letters```, the output is '2'.\n",
    "\n",
    "Output: 2\n",
    "\n",
    "##### Example 2:\n",
    "\n",
    "Input: 'ABCDAAAABBCCCE'\n",
    "\n",
    "Since there are 5 different letters in that string (A, B, C, D, E), the output is 5.\n",
    "\n",
    "Output: 5"
   ]
  },
  {
   "cell_type": "code",
   "execution_count": 3,
   "metadata": {
    "executionInfo": {
     "elapsed": 34,
     "status": "ok",
     "timestamp": 1648549251984,
     "user": {
      "displayName": "Raden Bimo",
      "userId": "01142906655871816443"
     },
     "user_tz": -420
    },
    "id": "uQkNjT2kJdpz"
   },
   "outputs": [],
   "source": [
    "#fungsi ini jawaban dengan asumsi bahwa white space dan special character merupakan letter\n",
    "def diff_letters(input):\n",
    "  length=len(set(input))\n",
    "  print(length)"
   ]
  },
  {
   "cell_type": "code",
   "execution_count": 4,
   "metadata": {
    "executionInfo": {
     "elapsed": 34,
     "status": "ok",
     "timestamp": 1648549251984,
     "user": {
      "displayName": "Raden Bimo",
      "userId": "01142906655871816443"
     },
     "user_tz": -420
    },
    "id": "flj8d7Iw-jFu"
   },
   "outputs": [],
   "source": [
    "#fungsi ini jika white space dan special character tidak boleh di hitung\n",
    "def diff_letters(input):\n",
    "  import re\n",
    "  input=re.sub(r\"[+]\\s*\",\" \", input)#replace all special character\n",
    "  input=input.replace(' ','')\n",
    "  length=len(set(input))\n",
    "  print(length)"
   ]
  },
  {
   "cell_type": "code",
   "execution_count": 5,
   "metadata": {
    "colab": {
     "base_uri": "https://localhost:8080/"
    },
    "executionInfo": {
     "elapsed": 34,
     "status": "ok",
     "timestamp": 1648549251985,
     "user": {
      "displayName": "Raden Bimo",
      "userId": "01142906655871816443"
     },
     "user_tz": -420
    },
    "id": "_BAImneoJdp0",
    "outputId": "133b2ce8-142b-468f-8f08-962b49e33740"
   },
   "outputs": [
    {
     "name": "stdout",
     "output_type": "stream",
     "text": [
      "2\n",
      "5\n"
     ]
    }
   ],
   "source": [
    "#tes code no 2\n",
    "test1='AAAAAAAAAB'\n",
    "test2='ABCDAAAA BBCCCE'\n",
    "diff_letters(test1)\n",
    "diff_letters(test2)\n",
    "#hasil:ok"
   ]
  },
  {
   "cell_type": "markdown",
   "metadata": {
    "id": "fiXI1RgZJdp3"
   },
   "source": [
    "Problem 3: Find Distance Between Two Coordinates - Medium"
   ]
  },
  {
   "cell_type": "markdown",
   "metadata": {
    "id": "TZx_zMmbJdp3"
   },
   "source": [
    "Create a function called ```distance``` that does the following:\n",
    "\n",
    "Given two coordinates in a list. Your task is to calculate the distance between these two coordinates. The input of your function will be a string. The coordinate that appears first is the first coordinate, and the coordinate that appears after the comma is the second coordinate.\n",
    "\n",
    "##### Example 1:\n",
    "\n",
    "Input: \n",
    "\n",
    "'(5,5), (1,2)'\n",
    "\n",
    "This means, the first point's coordinate is (5,5), the second point's coordinate is (1,2). To calculate the distance between these two points, we use the usual euclidean distance formula here: https://wikimedia.org/api/rest_v1/media/math/render/svg/2e0c9ce1b3455cb9e92c6bad6684dbda02f69c82. \n",
    "\n",
    "The distance is: \n",
    "\n",
    "Square root of ((5-1)^2 + (5-2)^2) = Square root of (16 + 9) = Square root of (25) = 5.\n",
    "\n",
    "Output: 'The distance is 5'\n",
    "\n",
    "So, when we run the code ```distance('(5,5),(1,2)')``` the output will be 'The distance is 5'.\n",
    "\n",
    "##### Example 2:\n",
    "\n",
    "Input:\n",
    "\n",
    "'(0,-1), (-3,2)'\n",
    "\n",
    "The first coordinate is (0,-1), the second coordinate is (-3,2). The distance between them is:\n",
    "\n",
    "Square root of ((0- -3)^2 + (-1-2)^2) = Square root of (9 + 9) = Square root of (18) = 4.242640687\n",
    "\n",
    "Output: 'The distance is 4.242640687'\n",
    "\n",
    "So, when we run the code ```distance('(0,-1),(-3,2)')``` the output will be 'The distance is 4.242640487'"
   ]
  },
  {
   "cell_type": "code",
   "execution_count": 6,
   "metadata": {
    "colab": {
     "base_uri": "https://localhost:8080/"
    },
    "executionInfo": {
     "elapsed": 31,
     "status": "ok",
     "timestamp": 1648549251986,
     "user": {
      "displayName": "Raden Bimo",
      "userId": "01142906655871816443"
     },
     "user_tz": -420
    },
    "id": "cBmVuoMu2MvA",
    "outputId": "0fae71ee-2e48-4955-8779-7f972d39bb7c"
   },
   "outputs": [
    {
     "name": "stdout",
     "output_type": "stream",
     "text": [
      "The distance is 5.0\n"
     ]
    }
   ],
   "source": [
    "#merubah list menjadi float\n",
    "def distance(str_a):\n",
    "  import re\n",
    "  if len(re.findall(r\"[a-zA-Z\\s*]\", str_a)) > 0:\n",
    "    return(print('Fungsi ini tidak menerima jika ada spasi mohon gunakan angka, koma,titik dan tanda kurung sesuai contoh berikut \"(5,-5),(1,2.5)\"'))\n",
    "  find=str_a.find(\",\",str_a.find(\",\") + 1);\n",
    "  awal=str_a[1:(find-1)].split(',');\n",
    "  akhir=str_a[(find+2):-1].split(',');\n",
    "  awal=list(map(float,awal))\n",
    "  akhir=list(map(float,akhir))\n",
    "#memasukan angka kedalam rumus\n",
    "  x1,y1=awal[0],awal[1]\n",
    "  x2,y2=akhir[0],akhir[1]\n",
    "  d=round((((x1-x2)**2+(y1-y2)**2)**0.5),7)\n",
    "  print('The distance is',d)\n",
    "string='(5,5),(1,2)'\n",
    "distance(string)"
   ]
  },
  {
   "cell_type": "code",
   "execution_count": 7,
   "metadata": {
    "colab": {
     "base_uri": "https://localhost:8080/"
    },
    "executionInfo": {
     "elapsed": 29,
     "status": "ok",
     "timestamp": 1648549251988,
     "user": {
      "displayName": "Raden Bimo",
      "userId": "01142906655871816443"
     },
     "user_tz": -420
    },
    "id": "FvLIEVgJJdqG",
    "outputId": "50cc4075-8ca6-4e38-d0b1-261f1eed1c2f"
   },
   "outputs": [
    {
     "name": "stdout",
     "output_type": "stream",
     "text": [
      "The distance is 5.0\n",
      "The distance is 4.2426407\n",
      "Fungsi ini tidak menerima jika ada spasi mohon gunakan angka, koma,titik dan tanda kurung sesuai contoh berikut \"(5,-5),(1,2.5)\"\n"
     ]
    }
   ],
   "source": [
    "#test\n",
    "string='(5,5),(1,2)'\n",
    "distance(string)\n",
    "distance('(0,-1),(-3,2)')\n",
    "#test jika ada spasi yang membuat eror function\n",
    "distance(' (0,-1),(-3,2)')\n",
    "#hasil :ok"
   ]
  }
 ],
 "metadata": {
  "colab": {
   "collapsed_sections": [],
   "name": "DS11 Week 3 Coding Exercise - Question R.Bimo Mandala Putra.ipynb",
   "provenance": []
  },
  "kernelspec": {
   "display_name": "Python 3 (ipykernel)",
   "language": "python",
   "name": "python3"
  },
  "language_info": {
   "codemirror_mode": {
    "name": "ipython",
    "version": 3
   },
   "file_extension": ".py",
   "mimetype": "text/x-python",
   "name": "python",
   "nbconvert_exporter": "python",
   "pygments_lexer": "ipython3",
   "version": "3.9.7"
  }
 },
 "nbformat": 4,
 "nbformat_minor": 1
}
