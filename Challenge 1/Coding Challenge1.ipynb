{
 "cells": [
  {
   "cell_type": "markdown",
   "metadata": {
    "id": "cMrT-5F164qj"
   },
   "source": [
    "# Coding Challenge1"
   ]
  },
  {
   "cell_type": "markdown",
   "metadata": {
    "id": "79NwqjIq64qr"
   },
   "source": [
    "## Problem 1: Who is in the third place?"
   ]
  },
  {
   "cell_type": "markdown",
   "metadata": {
    "id": "9db_O8Co64qs"
   },
   "source": [
    "Create a function whose name is ```third_place``` that does the following: \n",
    "\n",
    "Given a list of test score and a list of participants name. The desired output would be the name of the participant who gets the 3rd best score. The rule of determining the order of the best score is as follows:\n",
    "- Higher score is better\n",
    "- In case of multiple participants having the same test score, they can occupy the same ranking value. For example, if 2 participants scored 100, then both of them occupy the first place. \n",
    "\n",
    "The first input of the function is the name list, and the second input to the function is the score list.\n",
    "\n",
    "##### Example 1:\n",
    "\n",
    "Input:\n",
    "\n",
    "names = [Andi, Budi, Charlie, Dilan, Echa]\n",
    "\n",
    "score = [80, 90, 95, 100, 85]\n",
    "\n",
    "This means, Andi gets 80, Budi gets 90, Charlie gets 95, Dilan gets 100, and Echa gets 85. The first best score is 100, and Dilan gets it. The second best score is 95, and Charlie gets it. The third best score is 90, and Budi gets it. So, our output should be Budi.\n",
    "\n",
    "Output: 'The third winner: Budi'.\n",
    "\n",
    "When we run ```third_place(names, score)```, the output will be 'The third winner: Budi'.\n",
    "\n",
    "##### Example 2:\n",
    "\n",
    "Input:\n",
    "\n",
    "names = [Andi, Budi, Charlie, Dilan, Echa]\n",
    "\n",
    "score = [80, 80, 80, 100, 90]\n",
    "\n",
    "This means, Andi, Budi, and Charlie gets 80, Dilan gets 100, and Echa gets 90. The third best score is 80, and our output should list ALL of the participants who get 80. \n",
    "\n",
    "Output: 'The third winner: Andi, Budi, Charlie'.\n",
    "\n",
    "When we run ```third_place(names, score)```, the output will be 'The third winner: Andi, Budi, Charlie'.\n",
    "\n",
    "\n",
    "##### Example 3:\n",
    "\n",
    "Input:\n",
    "\n",
    "names = [Andi, Budi, Charlie, Dilan, Echa, Fanya]\n",
    "\n",
    "score = [80, 90, 90, 100, 100, 80]\n",
    "\n",
    "The first best score (first winner) is 100 - Dilan and Echa shared this position. The second best score (second winner) is 90 - Budi and Charlie shared this position. The third best score (third winner) is 80, and it is shared by Andi and Fanya. So, our output should be Andi and Fanya.\n",
    "\n",
    "Output: 'The third winner: Andi, Fanya'."
   ]
  },
  {
   "cell_type": "code",
   "execution_count": 1,
   "metadata": {
    "id": "QOoSINMz64qv"
   },
   "outputs": [],
   "source": [
    "def third_place(names, score):\n",
    "    ### Your code starts here ###\n",
    "    import pandas as pd\n",
    "    import numpy as np\n",
    "    df1=pd.DataFrame({'name': names,'score': score})\n",
    "    df1=df1.sort_values(by=['score'],ascending=False)\n",
    "    all_score=df1['score'].unique()\n",
    "    if len(all_score)< 3 :\n",
    "      return(print('There is no Third winner'))\n",
    "    else:\n",
    "      third_place=df1[df1['score']==all_score[2]]\n",
    "      name_list=third_place['name'].tolist()\n",
    "      nama=''\n",
    "      for i in range(len(name_list)):\n",
    "        if i==0:\n",
    "          nama=nama+name_list[i]\n",
    "        else:\n",
    "          nama=nama+','+name_list[i]\n",
    "      return(print('The Third winner :', nama))\n"
   ]
  },
  {
   "cell_type": "code",
   "execution_count": 2,
   "metadata": {
    "colab": {
     "base_uri": "https://localhost:8080/"
    },
    "id": "_zXNmyp8ZRqP",
    "outputId": "5837d03f-b229-4423-eb4f-267a54a55a29"
   },
   "outputs": [
    {
     "name": "stdout",
     "output_type": "stream",
     "text": [
      "test 1:\n",
      "The Third winner : Budi\n",
      "test 2:\n",
      "The Third winner : Andi,Budi,Charlie\n",
      "test 3:\n",
      "The Third winner : Andi,Fanya\n",
      "test :\n",
      "There is no Third winner\n"
     ]
    },
    {
     "data": {
      "text/plain": [
       "(None, None)"
      ]
     },
     "execution_count": 2,
     "metadata": {},
     "output_type": "execute_result"
    }
   ],
   "source": [
    "#test function\n",
    "nama1 = ['Andi', 'Budi', 'Charlie', 'Dilan', 'Echa']\n",
    "nilai1 = [80, 90, 95, 100, 85]\n",
    "print('test 1:'),third_place(nama1,nilai1)\n",
    "\n",
    "nama2 = ['Andi', 'Budi', 'Charlie', 'Dilan', 'Echa']\n",
    "nilai2 = [80, 80, 80, 100, 90]\n",
    "print('test 2:'),third_place(nama2,nilai2)\n",
    "\n",
    "nama3 = ['Andi', 'Budi', 'Charlie','Dilan', 'Echa', 'Fanya']  \n",
    "nilai3 = [80, 90, 90, 100, 100, 80]\n",
    "print('test 3:'),third_place(nama3,nilai3)\n",
    "\n",
    "#tambahan\n",
    "#Test jika tidak ada juara ke 3\n",
    "nama = ['Andi', 'Budi', 'Charlie','Dilan', 'Echa', 'Fanya']  \n",
    "nilai = [90, 90, 90, 100, 100, 90]\n",
    "print('test :'),third_place(nama,nilai)"
   ]
  },
  {
   "cell_type": "markdown",
   "metadata": {
    "id": "1ydxvEez64q3"
   },
   "source": [
    "## Problem 2: Find the Square Root!"
   ]
  },
  {
   "cell_type": "markdown",
   "metadata": {
    "id": "nvcBPlgV64q5"
   },
   "source": [
    "Create a function whose name is ```square_root``` that does the following:\n",
    "\n",
    "Given a second order polynomial, find the roots (roots should be in real number). The input will be 3 numbers, each of them representing 'a', 'b', and 'c', in ax^2 + bx + c = 0.\n",
    "\n",
    "Your task is to find the root of ax^2 + bx + c = 0. \n",
    "\n",
    "However, notice that sometimes an equation cannot be solved, or they have only one solution instead of two. Your function should also take this into consideration. \n",
    "\n",
    "The input of your function is 3 numbers, first number is the 'a' constant, second number is the 'b' constant, and third number is the 'c' constant.\n",
    "\n",
    "##### Example 1:\n",
    "\n",
    "Input: a = 1, b = -5, c = 6.\n",
    "\n",
    "This means, the equation is 1x^2 - 5x + 6 = 0. \n",
    "This equation has two solutions, the first solution is x = 3, and the second solution is x = 2. So, your output should be:\n",
    "\n",
    "Output: 'X1 = 3, X2 = 2'.\n",
    "\n",
    "When we run the code ```square_root(1, -5, 6)``` the output will be: 'X1 = 3, X2 = 2'\n",
    "\n",
    "##### Example 2:\n",
    "\n",
    "Input: a = 2, b = 4, c = 2.\n",
    "\n",
    "This means, the equation is 2x^2 + 4x + 2 = 0. \n",
    "This equation has only one solution, which is x = -1. \n",
    "\n",
    "Output; 'X = -1'.\n",
    "\n",
    "##### Example 3:\n",
    "\n",
    "Input: a = 1, b = 1, c = 9.\n",
    "\n",
    "This means, the equation is x^2 + x + 9 = 0.\n",
    "This equation has no real solution. (If you have learned about imaginary or complex numbers, the solution of this equation is those kind of numbers. But here, we're just going to deal with real numbers).\n",
    "\n",
    "Output: 'No solution'."
   ]
  },
  {
   "cell_type": "code",
   "execution_count": 3,
   "metadata": {
    "id": "i3_ebfGq64q6"
   },
   "outputs": [],
   "source": [
    "def square_root(a, b, c):\n",
    "    ### Your code starts here ###\n",
    "  x1=(-b+(b**2-4*a*c)**0.5)/(2*a)\n",
    "  x2=(-b-(b**2-4*a*c)**0.5)/(2*a)\n",
    "  if a==0:\n",
    "    return \"Error a can't be 0\"\n",
    "  if x1==x2:\n",
    "    return(print('X=',x1))\n",
    "  elif isinstance(x1,complex):\n",
    "    return(print('No solution'))\n",
    "  else:\n",
    "    return(print('X1=',x1,',','X2=',x2))"
   ]
  },
  {
   "cell_type": "code",
   "execution_count": 4,
   "metadata": {
    "colab": {
     "base_uri": "https://localhost:8080/"
    },
    "id": "gzU_NsDzRqjt",
    "outputId": "3040610d-4485-4446-ae14-8de270137997"
   },
   "outputs": [
    {
     "name": "stdout",
     "output_type": "stream",
     "text": [
      "test1\n",
      "X1= 3.0 , X2= 2.0\n",
      "test2\n",
      "X= -1.0\n",
      "test3\n",
      "No solution\n"
     ]
    }
   ],
   "source": [
    "#test code\n",
    "print('test1')\n",
    "square_root(1, -5, 6)\n",
    "print('test2')\n",
    "square_root(2, 4, 2)\n",
    "print('test3')\n",
    "square_root(1, 1, 9)"
   ]
  },
  {
   "cell_type": "markdown",
   "metadata": {
    "id": "NntHmMB164q-"
   },
   "source": [
    "## Problem 3: Find Distance Between Two Coordinates"
   ]
  },
  {
   "cell_type": "markdown",
   "metadata": {
    "id": "12EaDJlE64q_"
   },
   "source": [
    "Create a function called ```distance``` that does the following:\n",
    "\n",
    "Given two coordinates in a list. Your task is to calculate the distance between these two coordinates. The input of your function will be two list. Each list contains 2 members, representing the x and y position.\n",
    "\n",
    "##### Example 1:\n",
    "\n",
    "Input: \n",
    "\n",
    "point_1 = [5, 5]\n",
    "\n",
    "point_2 = [1, 2]\n",
    "\n",
    "This means, the first point's coordinate is (5,5), the second point's coordinate is (1,2). To calculate the distance between these two points, we use the usual euclidean distance formula here: https://wikimedia.org/api/rest_v1/media/math/render/svg/2e0c9ce1b3455cb9e92c6bad6684dbda02f69c82. \n",
    "\n",
    "The distance is: \n",
    "\n",
    "Square root of ((5-1)^2 + (5-2)^2) = Square root of (16 + 9) = Square root of (25) = 5.\n",
    "\n",
    "Output: 'The distance is 5.'\n",
    "\n",
    "So, when we run the code ```distance(point_1, point_2)``` the output will be 'The distance is 5'.\n",
    "\n",
    "##### Example 2:\n",
    "\n",
    "Input:\n",
    "\n",
    "point_1 = [0,-1]\n",
    "\n",
    "point_2 = [-3, 2]\n",
    "\n",
    "The first coordinate is (0,-1), the second coordinate is (-3,2). The distance between them is:\n",
    "\n",
    "Square root of ((0- -3)^2 + (-1-2)^2) = Square root of (9 + 9) = Square root of (18) = 4.242640687\n",
    "\n",
    "Output: 'The distance is 4.242640687'.\n",
    "\n",
    "So, when we run the code ```distance(point_1, point_2)``` the output will be 'The distance is 4.242640487'."
   ]
  },
  {
   "cell_type": "code",
   "execution_count": 6,
   "metadata": {
    "id": "4rmwX2y564rA"
   },
   "outputs": [],
   "source": [
    "def distance(point_1, point_2):\n",
    "  x1,y1=point_1[0],point_1[1]\n",
    "  x2,y2=point_2[0],point_2[1]\n",
    "  d=((x1-x2)**2+(y1-y2)**2)**0.5\n",
    "  return(print('The distance is =',round(d,9)))"
   ]
  },
  {
   "cell_type": "code",
   "execution_count": 7,
   "metadata": {
    "colab": {
     "base_uri": "https://localhost:8080/"
    },
    "id": "Ef3jxyDnYFTc",
    "outputId": "4a9b13e9-041b-4bbb-ad7d-157ff8da597c"
   },
   "outputs": [
    {
     "name": "stdout",
     "output_type": "stream",
     "text": [
      "test1\n",
      "The distance is = 4.242640687\n",
      "test2\n",
      "The distance is = 5.0\n"
     ]
    }
   ],
   "source": [
    "#test code\n",
    "print('test1')\n",
    "point_1 = [0,-1]\n",
    "point_2 = [-3, 2]\n",
    "distance(point_1, point_2)\n",
    "print('test2')\n",
    "point1 = [5, 5]\n",
    "point2 = [1, 2]\n",
    "distance(point1, point2)"
   ]
  }
 ],
 "metadata": {
  "colab": {
   "collapsed_sections": [],
   "name": "DS11 Week 2 Coding Exercise - Question.ipynb",
   "provenance": []
  },
  "kernelspec": {
   "display_name": "Python 3 (ipykernel)",
   "language": "python",
   "name": "python3"
  },
  "language_info": {
   "codemirror_mode": {
    "name": "ipython",
    "version": 3
   },
   "file_extension": ".py",
   "mimetype": "text/x-python",
   "name": "python",
   "nbconvert_exporter": "python",
   "pygments_lexer": "ipython3",
   "version": "3.9.7"
  }
 },
 "nbformat": 4,
 "nbformat_minor": 1
}
