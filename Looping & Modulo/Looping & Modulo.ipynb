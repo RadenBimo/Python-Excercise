{
 "cells": [
  {
   "cell_type": "markdown",
   "metadata": {
    "id": "21Q6Yhc2Fy9p"
   },
   "source": [
    "# Looping & Modulo"
   ]
  },
  {
   "cell_type": "markdown",
   "metadata": {
    "id": "8Pk4S8y1GF_G"
   },
   "source": [
    "### **Question 1**: \n",
    "\n",
    "Print out integers which are multiples of 3 from 1 to 22.\n",
    "(Print out bilangan bulat yang merupakan kelipatan 3 dari 1 sampai 22).\n",
    "\n",
    "**answer must:**\n",
    "\n",
    "if you run the code , show numbers : 3, 9, 12, 15, 18, 21. you must use looping method!"
   ]
  },
  {
   "cell_type": "code",
   "execution_count": 1,
   "metadata": {
    "colab": {
     "base_uri": "https://localhost:8080/"
    },
    "id": "4x8tKgKfKzkp",
    "outputId": "110bfb30-965f-4257-be69-4db02c088057"
   },
   "outputs": [
    {
     "name": "stdout",
     "output_type": "stream",
     "text": [
      "3\n",
      "6\n",
      "9\n",
      "12\n",
      "15\n",
      "18\n",
      "21\n"
     ]
    }
   ],
   "source": [
    "for x in range (3, 22, 3) :\n",
    "  print(x)"
   ]
  },
  {
   "cell_type": "markdown",
   "metadata": {
    "id": "B3KWeHp2G3Pi"
   },
   "source": [
    "### **Question 2**: \n",
    "\n",
    "Create a function in python for checking Is a number a prime number or not?\n",
    "\n",
    "answer expectation: \n",
    "\n",
    "example: if your function name was prime_check. when we run prime_check(5), then the output is '5 is a Prime number'. This function must be able to apply to any input. "
   ]
  },
  {
   "cell_type": "code",
   "execution_count": 2,
   "metadata": {
    "id": "jNzJrYNCJmBw"
   },
   "outputs": [],
   "source": [
    "def prime_check(angka): \n",
    "  if angka > 1 : #prime number is number bigger than 1\n",
    "    for i in range(2, angka):\n",
    "      if angka%i == 0 :\n",
    "        return (print( angka,'is not prime number'))\n",
    "      else:\n",
    "        continue\n",
    "    print(angka, 'is prime number')  \n",
    "  else: #jika lebih kecil sama dengan 1\n",
    "    print(angka, 'is prime number')"
   ]
  },
  {
   "cell_type": "code",
   "execution_count": 3,
   "metadata": {
    "colab": {
     "base_uri": "https://localhost:8080/"
    },
    "id": "Rdgych21hD2A",
    "outputId": "64269f70-6a04-4056-ca62-3a6c98a0d2c5"
   },
   "outputs": [
    {
     "name": "stdout",
     "output_type": "stream",
     "text": [
      "100 is not prime number\n",
      "5 is prime number\n",
      "101 is prime number\n",
      "4 is not prime number\n"
     ]
    }
   ],
   "source": [
    "#Test the code\n",
    "prime_check(100)\n",
    "prime_check(5)\n",
    "prime_check(101)\n",
    "prime_check(4)"
   ]
  },
  {
   "cell_type": "raw",
   "metadata": {},
   "source": [
    "Result OK"
   ]
  }
 ],
 "metadata": {
  "colab": {
   "collapsed_sections": [],
   "history_visible": true,
   "name": "Salinan coding_exercise_1_DS_Python.ipynb",
   "provenance": []
  },
  "kernelspec": {
   "display_name": "Python 3 (ipykernel)",
   "language": "python",
   "name": "python3"
  },
  "language_info": {
   "codemirror_mode": {
    "name": "ipython",
    "version": 3
   },
   "file_extension": ".py",
   "mimetype": "text/x-python",
   "name": "python",
   "nbconvert_exporter": "python",
   "pygments_lexer": "ipython3",
   "version": "3.9.7"
  }
 },
 "nbformat": 4,
 "nbformat_minor": 1
}
